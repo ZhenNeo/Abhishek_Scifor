{
  "nbformat": 4,
  "nbformat_minor": 0,
  "metadata": {
    "colab": {
      "provenance": []
    },
    "kernelspec": {
      "name": "python3",
      "display_name": "Python 3"
    },
    "language_info": {
      "name": "python"
    }
  },
  "cells": [
    {
      "cell_type": "code",
      "execution_count": null,
      "metadata": {
        "colab": {
          "base_uri": "https://localhost:8080/"
        },
        "id": "Z-frA_lPlEVo",
        "outputId": "7f9223ed-80b1-4990-9df5-55a3197a6c8a"
      },
      "outputs": [
        {
          "output_type": "stream",
          "name": "stdout",
          "text": [
            "[2, 2, 4, 4, 6, 6, 8]\n"
          ]
        }
      ],
      "source": [
        "#convert odd numbers to even\n",
        "l = [1,2,3,4,5,6,7]\n",
        "for i in range(len(l)):\n",
        "  if l[i] % 2 != 0: # find odd numbers\n",
        "    l[i] += 1       # add 1 so they are even\n",
        "\n",
        "print(l)\n"
      ]
    },
    {
      "cell_type": "code",
      "source": [
        "# replacing first and last elements in a list\n",
        "l = [1,2,3,4,5,6,7,8,9]\n",
        "l[0], l[-1] = l[-1], l[0] # replace them in a single line so no error occurs\n",
        "print(l)"
      ],
      "metadata": {
        "colab": {
          "base_uri": "https://localhost:8080/"
        },
        "id": "E5RXV9r1mvLt",
        "outputId": "931a16a0-4c67-42f0-fe95-18aabb57de3a"
      },
      "execution_count": null,
      "outputs": [
        {
          "output_type": "stream",
          "name": "stdout",
          "text": [
            "[9, 2, 3, 4, 5, 6, 7, 8, 1]\n"
          ]
        }
      ]
    },
    {
      "cell_type": "code",
      "source": [
        "# taking input from user and printing in a list\n",
        "\n",
        "l = []\n",
        "\n",
        "while True:\n",
        "  l_input = input(\"Enter elements in the list and enter stop to exit: \")\n",
        "  if l_input == 'stop':\n",
        "    break\n",
        "  l.append(l_input)\n",
        "print(l)"
      ],
      "metadata": {
        "colab": {
          "base_uri": "https://localhost:8080/"
        },
        "id": "TT_1vMDWnkNR",
        "outputId": "18cf0412-3665-44d7-8fd0-26cdccdcbe63"
      },
      "execution_count": null,
      "outputs": [
        {
          "output_type": "stream",
          "name": "stdout",
          "text": [
            "Enter elements in the list and enter stop to exit: 1\n",
            "Enter elements in the list and enter stop to exit: 2\n",
            "Enter elements in the list and enter stop to exit: 3\n",
            "Enter elements in the list and enter stop to exit: 4\n",
            "Enter elements in the list and enter stop to exit: 5\n",
            "Enter elements in the list and enter stop to exit: 6\n",
            "Enter elements in the list and enter stop to exit: 7\n",
            "Enter elements in the list and enter stop to exit: 8\n",
            "Enter elements in the list and enter stop to exit: 9\n",
            "Enter elements in the list and enter stop to exit: 10\n",
            "Enter elements in the list and enter stop to exit: stop\n",
            "['1', '2', '3', '4', '5', '6', '7', '8', '9', '10']\n"
          ]
        }
      ]
    },
    {
      "cell_type": "code",
      "source": [
        "employees = []\n",
        "employees.append(\"001-Jack\")\n",
        "employees.append(\"002-Jacob\")\n",
        "employees.append(\"003-Crystal\")\n",
        "employees.append(\"006-Kylie\")\n",
        "employees.append(\"007-Chuck\")\n",
        "employees.append(\"0010-Andre\")\n",
        "employees.insert(3, \"004-Max\")\n",
        "\n",
        "for employee in employees:\n",
        "  print(employee)\n"
      ],
      "metadata": {
        "colab": {
          "base_uri": "https://localhost:8080/"
        },
        "id": "vxyJbk40srtM",
        "outputId": "beea3212-52b7-4c3f-947a-55b4622f6997"
      },
      "execution_count": null,
      "outputs": [
        {
          "output_type": "stream",
          "name": "stdout",
          "text": [
            "001-Jack\n",
            "002-Jacob\n",
            "003-Crystal\n",
            "004-Max\n",
            "006-Kylie\n",
            "007-Chuck\n",
            "0010-Andre\n"
          ]
        }
      ]
    }
  ]
}