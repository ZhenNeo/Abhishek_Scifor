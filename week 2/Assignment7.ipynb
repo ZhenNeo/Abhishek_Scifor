{
  "nbformat": 4,
  "nbformat_minor": 0,
  "metadata": {
    "colab": {
      "provenance": []
    },
    "kernelspec": {
      "name": "python3",
      "display_name": "Python 3"
    },
    "language_info": {
      "name": "python"
    }
  },
  "cells": [
    {
      "cell_type": "code",
      "execution_count": null,
      "metadata": {
        "colab": {
          "base_uri": "https://localhost:8080/"
        },
        "id": "PHB8NQ_UTKN4",
        "outputId": "12e382c0-9c40-4707-9aab-df7cbc340449"
      },
      "outputs": [
        {
          "output_type": "stream",
          "name": "stdout",
          "text": [
            "15\n",
            "-5\n",
            "50\n"
          ]
        }
      ],
      "source": [
        "def add(x,y):\n",
        "  return x + y\n",
        "\n",
        "def substract(x,y):\n",
        "  return x - y\n",
        "\n",
        "def multiply(x,y):\n",
        "  return x * y\n",
        "\n",
        "x = 5\n",
        "y = 10\n",
        "print(add(x,y))\n",
        "print(substract(x,y))\n",
        "print(multiply(x,y))"
      ]
    },
    {
      "cell_type": "code",
      "source": [
        "def simple_Interest(P, r, t):\n",
        "  A = P*(1 + (r*t))\n",
        "  return A\n",
        "def compound_interest(P, r, n, t):\n",
        "  A = P*(1 + (r/n))**(n*t)\n",
        "  return A\n",
        "A = 0\n",
        "P = 10000\n",
        "r = 6/100\n",
        "t = 30\n",
        "n = 2\n",
        "print(simple_Interest(P, r, t))\n",
        "print(compound_interest(P, r, n, t))\n"
      ],
      "metadata": {
        "colab": {
          "base_uri": "https://localhost:8080/"
        },
        "id": "4H2_kyPtT7Lj",
        "outputId": "a2946801-a968-4304-99e0-ab8ee39bd499"
      },
      "execution_count": null,
      "outputs": [
        {
          "output_type": "stream",
          "name": "stdout",
          "text": [
            "28000.0\n",
            "58916.03104045746\n"
          ]
        }
      ]
    },
    {
      "cell_type": "code",
      "source": [
        "def Is_perfect_square(n):\n",
        "  root = int(n**0.5)\n",
        "  return root**2 == n\n",
        "\n",
        "n = 25\n",
        "if Is_perfect_square(n):\n",
        "  print(f\"{n} is perfect sqaure\")\n",
        "else:\n",
        "  print(f\"{n} is not perfect sqaure\")\n"
      ],
      "metadata": {
        "colab": {
          "base_uri": "https://localhost:8080/"
        },
        "id": "Dc55x8OqTwb9",
        "outputId": "9f342d4c-f228-417b-d66a-db6a73427e9f"
      },
      "execution_count": null,
      "outputs": [
        {
          "output_type": "stream",
          "name": "stdout",
          "text": [
            "25 is perfect sqaure\n"
          ]
        }
      ]
    },
    {
      "cell_type": "code",
      "source": [
        "def toWord(n):\n",
        "  digit_words = {\n",
        "        '0': 'zero', '1': 'one', '2': 'two', '3': 'three', '4': 'four',\n",
        "        '5': 'five', '6': 'six', '7': 'seven', '8': 'eight', '9': 'nine'\n",
        "    }\n",
        "  num_str = str(n)\n",
        "  numWord = ''\n",
        "  for i in num_str:\n",
        "    numWord += digit_words[i] + '-'\n",
        "\n",
        "  numWord = numWord.rstrip('-')\n",
        "  return numWord\n",
        "\n",
        "print(toWord(89))\n",
        "print(toWord(389))"
      ],
      "metadata": {
        "colab": {
          "base_uri": "https://localhost:8080/"
        },
        "id": "2fOwYhSWWWTj",
        "outputId": "6fab372e-2dec-456f-a697-52c475babc14"
      },
      "execution_count": null,
      "outputs": [
        {
          "output_type": "stream",
          "name": "stdout",
          "text": [
            "eight-nine\n",
            "three-eight-nine\n"
          ]
        }
      ]
    },
    {
      "cell_type": "code",
      "source": [
        "def report(name, total, sold):\n",
        "  available_percent = ((total-sold)/total)*100\n",
        "  print(f\"Branch: {name}\")\n",
        "  print(f\"Available Stock: {available_percent:.2f}%\\n\")\n",
        "\n",
        "def main():\n",
        "  report(\"Branch A\", total=1000, sold=300)\n",
        "\n",
        "  report(\"Branch B\", total=800, sold=150)\n",
        "\n",
        "  report(\"Branch C\", total=1200, sold=400)\n",
        "\n",
        "  report(\"Branch D\", total=1500, sold=200)\n",
        "\n",
        "main()"
      ],
      "metadata": {
        "colab": {
          "base_uri": "https://localhost:8080/"
        },
        "id": "DtQEyftRYcvV",
        "outputId": "7fbe92ff-16e7-4740-f423-f0e791728455"
      },
      "execution_count": null,
      "outputs": [
        {
          "output_type": "stream",
          "name": "stdout",
          "text": [
            "Branch: Branch A\n",
            "Available Stock: 70.00%\n",
            "\n",
            "Branch: Branch B\n",
            "Available Stock: 81.25%\n",
            "\n",
            "Branch: Branch C\n",
            "Available Stock: 66.67%\n",
            "\n",
            "Branch: Branch D\n",
            "Available Stock: 86.67%\n",
            "\n"
          ]
        }
      ]
    }
  ]
}