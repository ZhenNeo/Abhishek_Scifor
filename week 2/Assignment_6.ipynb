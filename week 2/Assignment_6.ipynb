{
  "nbformat": 4,
  "nbformat_minor": 0,
  "metadata": {
    "colab": {
      "provenance": []
    },
    "kernelspec": {
      "name": "python3",
      "display_name": "Python 3"
    },
    "language_info": {
      "name": "python"
    }
  },
  "cells": [
    {
      "cell_type": "code",
      "execution_count": null,
      "metadata": {
        "colab": {
          "base_uri": "https://localhost:8080/"
        },
        "id": "SR0syujSEkvS",
        "outputId": "0c6dbacf-645e-45cc-d705-edf7d17651db"
      },
      "outputs": [
        {
          "output_type": "stream",
          "name": "stdout",
          "text": [
            "Enter the number of rows: 4\n",
            "Enter the number of columns: 10\n",
            "The total number of desks in the classroom is:  40\n"
          ]
        }
      ],
      "source": [
        "# number of desks\n",
        "rows = int(input(\"Enter the number of rows: \"))\n",
        "columns = int(input(\"Enter the number of columns: \"))\n",
        "\n",
        "total = rows * columns\n",
        "print(\"The total number of desks in the classroom is:\", total)"
      ]
    },
    {
      "cell_type": "code",
      "source": [
        "#Party security\n",
        "staff = 0\n",
        "guest = 1\n",
        "total = 0\n",
        "n = int(input(\"Enter your authorization code: \"))\n",
        "if n == staff:\n",
        "  print(\"Access Granted \\nDoor opened\")\n",
        "elif n == guest:\n",
        "  print(\"Doop opened. \\nWelcome to the party, we hope you have fun\")\n",
        "  total += 1\n",
        "else:\n",
        "  print(\"Invalid code\")\n",
        "\n"
      ],
      "metadata": {
        "colab": {
          "base_uri": "https://localhost:8080/"
        },
        "id": "Yc4-8PStFpXS",
        "outputId": "1680aeb1-1644-4319-98b3-e321a71e36ff"
      },
      "execution_count": null,
      "outputs": [
        {
          "output_type": "stream",
          "name": "stdout",
          "text": [
            "Enter your authorization code: 1\n",
            "Doop opened. \n",
            "Welcome to the party, we hope you have fun\n"
          ]
        }
      ]
    },
    {
      "cell_type": "code",
      "source": [
        "#even or odd\n",
        "n = 20\n",
        "for i in range(10,n+1):\n",
        "  if i % 2==0:\n",
        "    print(f\"{i} is even\")\n",
        "  else:\n",
        "    print(f\"{i} is odd\")"
      ],
      "metadata": {
        "colab": {
          "base_uri": "https://localhost:8080/"
        },
        "id": "5JpLb58cG72v",
        "outputId": "2f66ce49-1a85-414f-8efe-5bd213b716c1"
      },
      "execution_count": null,
      "outputs": [
        {
          "output_type": "stream",
          "name": "stdout",
          "text": [
            "10 is even\n",
            "11 is odd\n",
            "12 is even\n",
            "13 is odd\n",
            "14 is even\n",
            "15 is odd\n",
            "16 is even\n",
            "17 is odd\n",
            "18 is even\n",
            "19 is odd\n",
            "20 is even\n"
          ]
        }
      ]
    },
    {
      "cell_type": "code",
      "source": [
        "#word calculator\n",
        "n = input()\n",
        "no = n.count(\" \")\n",
        "print(f\"Total number of words: {no+1}\")"
      ],
      "metadata": {
        "colab": {
          "base_uri": "https://localhost:8080/"
        },
        "id": "diaVFelzHYCl",
        "outputId": "2dcd3902-212e-42af-c465-b7c3e929c34f"
      },
      "execution_count": null,
      "outputs": [
        {
          "output_type": "stream",
          "name": "stdout",
          "text": [
            "Hi, my name is abhishek.\n",
            "Total number of words: 5\n"
          ]
        }
      ]
    },
    {
      "cell_type": "code",
      "source": [
        "#prime number\n",
        "n = int(input(\"Enter a number: \"))\n",
        "prime = False\n",
        "for i in range(2,int(n**0.5)+1):\n",
        "  if n % i == 0:\n",
        "    prime = False\n",
        "  else:\n",
        "    prime = True\n",
        "\n",
        "if prime == True:\n",
        "  print(\"Prime number\")\n",
        "else:\n",
        "  print(\"Not a prime number\")"
      ],
      "metadata": {
        "colab": {
          "base_uri": "https://localhost:8080/"
        },
        "id": "jrKNBlylIQvr",
        "outputId": "eedbbb9d-d5cb-4b05-dcf9-40f5ad758d49"
      },
      "execution_count": null,
      "outputs": [
        {
          "output_type": "stream",
          "name": "stdout",
          "text": [
            "Enter a number: 97\n",
            "Prime number\n"
          ]
        }
      ]
    },
    {
      "cell_type": "code",
      "source": [
        "#company names dictionary\n",
        "names = {1:\"Arjun\", 2:\"Satish\", 3:\"Rahul\", 4:\"Ram\", 5:\"Satish\", 6:\"Vijay\"}\n",
        "for emp_id, name in names.items():\n",
        "  print(f\"{emp_id}: {name}\")\n",
        "\n",
        "new_names = {7:\"Sam\", 8:\"John\"}\n",
        "\n",
        "names.update(new_names)\n",
        "print(\"Merged students list\")\n",
        "for emp_id, name in names.items():\n",
        "  print(f\"{emp_id}: {name}\")\n",
        "\n",
        "for i in names.keys():\n",
        "  print(\"Message sent to:\", i)"
      ],
      "metadata": {
        "colab": {
          "base_uri": "https://localhost:8080/"
        },
        "id": "WGTDlZIPJj8t",
        "outputId": "b1e3e943-8684-4949-c35f-6dea29b94321"
      },
      "execution_count": null,
      "outputs": [
        {
          "output_type": "stream",
          "name": "stdout",
          "text": [
            "1: Arjun\n",
            "2: Satish\n",
            "3: Rahul\n",
            "4: Ram\n",
            "5: Satish\n",
            "6: Vijay\n",
            "Merged students list\n",
            "1: Arjun\n",
            "2: Satish\n",
            "3: Rahul\n",
            "4: Ram\n",
            "5: Satish\n",
            "6: Vijay\n",
            "7: Sam\n",
            "8: John\n",
            "Message sent to: 1\n",
            "Message sent to: 2\n",
            "Message sent to: 3\n",
            "Message sent to: 4\n",
            "Message sent to: 5\n",
            "Message sent to: 6\n",
            "Message sent to: 7\n",
            "Message sent to: 8\n"
          ]
        }
      ]
    }
  ]
}