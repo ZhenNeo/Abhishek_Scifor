{
  "nbformat": 4,
  "nbformat_minor": 0,
  "metadata": {
    "colab": {
      "provenance": []
    },
    "kernelspec": {
      "name": "python3",
      "display_name": "Python 3"
    },
    "language_info": {
      "name": "python"
    }
  },
  "cells": [
    {
      "cell_type": "code",
      "execution_count": null,
      "metadata": {
        "colab": {
          "base_uri": "https://localhost:8080/"
        },
        "id": "gXwDxlMUIMb2",
        "outputId": "0fabc6d5-0786-441e-a74e-b0696830649a"
      },
      "outputs": [
        {
          "output_type": "stream",
          "name": "stdout",
          "text": [
            "[1 2 3 4 5]\n",
            "<class 'numpy.ndarray'>\n"
          ]
        }
      ],
      "source": [
        "import numpy as np\n",
        "\n",
        "arr = np.array([1,2,3,4,5])\n",
        "\n",
        "print(arr)\n",
        "print(type(arr))"
      ]
    },
    {
      "cell_type": "code",
      "source": [
        "arr1 = np.array([[1,2,3],[5,6,7]])\n",
        "\n",
        "print(arr1)\n",
        "print(arr1[1,1])\n",
        "print(arr1[0,1] + arr1[1,2])\n"
      ],
      "metadata": {
        "colab": {
          "base_uri": "https://localhost:8080/"
        },
        "id": "urGGWiQMI2Vx",
        "outputId": "4d1556f3-c960-4318-c3df-5c0da1d95f2f"
      },
      "execution_count": null,
      "outputs": [
        {
          "output_type": "stream",
          "name": "stdout",
          "text": [
            "[[1 2 3]\n",
            " [5 6 7]]\n",
            "6\n",
            "9\n"
          ]
        }
      ]
    },
    {
      "cell_type": "code",
      "source": [
        "arr2 = np.array([[[1,2,3,4,5],[6,7,8,9,0]],[[1,3,5,7,9],[2,4,6,8,0]]])\n",
        "arr2\n"
      ],
      "metadata": {
        "colab": {
          "base_uri": "https://localhost:8080/"
        },
        "id": "CmUWUVhZJmVI",
        "outputId": "6a54d18c-4744-4b59-e21c-f3b77b927887"
      },
      "execution_count": null,
      "outputs": [
        {
          "output_type": "execute_result",
          "data": {
            "text/plain": [
              "array([[[1, 2, 3, 4, 5],\n",
              "        [6, 7, 8, 9, 0]],\n",
              "\n",
              "       [[1, 3, 5, 7, 9],\n",
              "        [2, 4, 6, 8, 0]]])"
            ]
          },
          "metadata": {},
          "execution_count": 4
        }
      ]
    },
    {
      "cell_type": "code",
      "source": [
        "print(arr2.shape)"
      ],
      "metadata": {
        "colab": {
          "base_uri": "https://localhost:8080/"
        },
        "id": "7eT-8GZTKKq1",
        "outputId": "7e1372f6-189e-4173-b4dd-b728d2c4c3ef"
      },
      "execution_count": null,
      "outputs": [
        {
          "output_type": "stream",
          "name": "stdout",
          "text": [
            "(2, 2, 5)\n"
          ]
        }
      ]
    },
    {
      "cell_type": "code",
      "source": [
        "arr3 = np.array([1,2,3])\n",
        "arr4 = np.array([4,5,6])\n",
        "\n",
        "arr5 = np.concatenate((arr3,arr4))\n",
        "arr5"
      ],
      "metadata": {
        "colab": {
          "base_uri": "https://localhost:8080/"
        },
        "id": "88sJZ64IKauB",
        "outputId": "fc473ab5-e622-4d4f-910c-bff8344ab8ec"
      },
      "execution_count": null,
      "outputs": [
        {
          "output_type": "execute_result",
          "data": {
            "text/plain": [
              "array([1, 2, 3, 4, 5, 6])"
            ]
          },
          "metadata": {},
          "execution_count": 13
        }
      ]
    },
    {
      "cell_type": "code",
      "source": [
        "arr6 = np.array([[1,3,6],[2,4,8]])\n",
        "\n",
        "arr7 = np.concatenate((arr1, arr6), axis= 1)\n",
        "\n",
        "for i in arr7:\n",
        "  print(i)"
      ],
      "metadata": {
        "colab": {
          "base_uri": "https://localhost:8080/"
        },
        "id": "hRL03k6bK5hl",
        "outputId": "bca4bdb6-96c5-436c-ed32-55c16b4d004d"
      },
      "execution_count": null,
      "outputs": [
        {
          "output_type": "stream",
          "name": "stdout",
          "text": [
            "[1 2 3 1 3 6]\n",
            "[5 6 7 2 4 8]\n"
          ]
        }
      ]
    },
    {
      "cell_type": "code",
      "source": [
        "arr7 = np.hstack((arr1, arr6))\n",
        "arr7"
      ],
      "metadata": {
        "colab": {
          "base_uri": "https://localhost:8080/"
        },
        "id": "fs29lbU8LZEk",
        "outputId": "7fb90bb1-3903-4c46-db16-9b040f48c7eb"
      },
      "execution_count": null,
      "outputs": [
        {
          "output_type": "execute_result",
          "data": {
            "text/plain": [
              "array([[1, 2, 3, 1, 3, 6],\n",
              "       [5, 6, 7, 2, 4, 8]])"
            ]
          },
          "metadata": {},
          "execution_count": 19
        }
      ]
    },
    {
      "cell_type": "code",
      "source": [
        "spltarr = np.array_split(arr5, 3)\n",
        "spltarr"
      ],
      "metadata": {
        "colab": {
          "base_uri": "https://localhost:8080/"
        },
        "id": "Ip3VvrFcRpG6",
        "outputId": "66b628ab-f30f-4b1e-be3a-7e70fcaadaa0"
      },
      "execution_count": null,
      "outputs": [
        {
          "output_type": "execute_result",
          "data": {
            "text/plain": [
              "[array([1, 2]), array([3, 4]), array([5, 6])]"
            ]
          },
          "metadata": {},
          "execution_count": 20
        }
      ]
    },
    {
      "cell_type": "code",
      "source": [
        "x = np.where(arr2 == 4)\n",
        "x\n"
      ],
      "metadata": {
        "id": "d4SMXUlSShfD",
        "colab": {
          "base_uri": "https://localhost:8080/"
        },
        "outputId": "8263ba6c-650f-4081-a12f-6ae5086c9345"
      },
      "execution_count": null,
      "outputs": [
        {
          "output_type": "execute_result",
          "data": {
            "text/plain": [
              "(array([0, 1]), array([0, 1]), array([3, 1]))"
            ]
          },
          "metadata": {},
          "execution_count": 9
        }
      ]
    },
    {
      "cell_type": "code",
      "source": [
        "y = np.sort(arr2)\n",
        "y"
      ],
      "metadata": {
        "colab": {
          "base_uri": "https://localhost:8080/"
        },
        "id": "BxyTgAz63sMA",
        "outputId": "34b654dd-9a94-4996-b038-a1d57b1792e6"
      },
      "execution_count": null,
      "outputs": [
        {
          "output_type": "execute_result",
          "data": {
            "text/plain": [
              "array([[[1, 2, 3, 4, 5],\n",
              "        [0, 6, 7, 8, 9]],\n",
              "\n",
              "       [[1, 3, 5, 7, 9],\n",
              "        [0, 2, 4, 6, 8]]])"
            ]
          },
          "metadata": {},
          "execution_count": 8
        }
      ]
    },
    {
      "cell_type": "code",
      "source": [
        "fruits = np.array(['Banana', 'Apple', 'Mango', 'Pineapple', 'Strawberry', 'Blackberry'])\n",
        "z = np.sort(fruits)\n",
        "z"
      ],
      "metadata": {
        "colab": {
          "base_uri": "https://localhost:8080/"
        },
        "id": "exvCPSNm3vu1",
        "outputId": "4dea1b7e-7592-4a6d-e11b-eb3e8e9941bf"
      },
      "execution_count": null,
      "outputs": [
        {
          "output_type": "execute_result",
          "data": {
            "text/plain": [
              "array(['Apple', 'Banana', 'Blackberry', 'Mango', 'Pineapple',\n",
              "       'Strawberry'], dtype='<U10')"
            ]
          },
          "metadata": {},
          "execution_count": 10
        }
      ]
    },
    {
      "cell_type": "code",
      "source": [
        "from numpy import random\n",
        "\n",
        "a = random.randint(100)\n",
        "a\n"
      ],
      "metadata": {
        "colab": {
          "base_uri": "https://localhost:8080/"
        },
        "id": "thHZMNbM4JiJ",
        "outputId": "e1ffcfd3-a12e-4b90-ba1d-0b79cc220d50"
      },
      "execution_count": null,
      "outputs": [
        {
          "output_type": "execute_result",
          "data": {
            "text/plain": [
              "60"
            ]
          },
          "metadata": {},
          "execution_count": 11
        }
      ]
    },
    {
      "cell_type": "code",
      "source": [
        "b = random.rand()\n",
        "b"
      ],
      "metadata": {
        "colab": {
          "base_uri": "https://localhost:8080/"
        },
        "id": "Tkf0dIvO4YN3",
        "outputId": "a63c6b52-1752-4667-f3be-5c1196b1912c"
      },
      "execution_count": null,
      "outputs": [
        {
          "output_type": "execute_result",
          "data": {
            "text/plain": [
              "0.3667826688662953"
            ]
          },
          "metadata": {},
          "execution_count": 12
        }
      ]
    },
    {
      "cell_type": "code",
      "source": [
        "c = random.randint(100, size=(10))\n",
        "c"
      ],
      "metadata": {
        "colab": {
          "base_uri": "https://localhost:8080/"
        },
        "id": "XyXiXrgx4cIJ",
        "outputId": "81d9c9b8-1957-455e-8af7-e49dbb709e03"
      },
      "execution_count": null,
      "outputs": [
        {
          "output_type": "execute_result",
          "data": {
            "text/plain": [
              "array([45, 73, 67,  4, 65, 19, 61, 19, 61, 39])"
            ]
          },
          "metadata": {},
          "execution_count": 15
        }
      ]
    },
    {
      "cell_type": "code",
      "source": [
        "d = random.rand(5)\n",
        "d"
      ],
      "metadata": {
        "colab": {
          "base_uri": "https://localhost:8080/"
        },
        "id": "cykRtDVN4ryG",
        "outputId": "800efa1d-03d9-4817-8421-450c5a7acc5a"
      },
      "execution_count": null,
      "outputs": [
        {
          "output_type": "execute_result",
          "data": {
            "text/plain": [
              "array([0.67712354, 0.45687204, 0.46911866, 0.17464186, 0.50146835])"
            ]
          },
          "metadata": {},
          "execution_count": 16
        }
      ]
    },
    {
      "cell_type": "code",
      "source": [
        "r = random.choice([1,2,3,4,5,6,7,8,9,0], size=(5,5))\n",
        "r"
      ],
      "metadata": {
        "colab": {
          "base_uri": "https://localhost:8080/"
        },
        "id": "_V40NT0t4z17",
        "outputId": "a0426d28-9a77-410c-f370-cd6202af85ae"
      },
      "execution_count": null,
      "outputs": [
        {
          "output_type": "execute_result",
          "data": {
            "text/plain": [
              "array([[9, 1, 5, 0, 1],\n",
              "       [4, 9, 1, 0, 3],\n",
              "       [3, 8, 2, 6, 7],\n",
              "       [7, 9, 2, 8, 6],\n",
              "       [8, 5, 3, 7, 7]])"
            ]
          },
          "metadata": {},
          "execution_count": 19
        }
      ]
    },
    {
      "cell_type": "code",
      "source": [
        "rd = random.choice([1,2,3,4,5,6,7,8,9,10,11,12,13,14,15,16,17,18,19,20], size = (4,3,5))\n",
        "rd"
      ],
      "metadata": {
        "colab": {
          "base_uri": "https://localhost:8080/"
        },
        "id": "2oVYJ-iE6qwe",
        "outputId": "b8db9de3-6ac7-487a-c60d-e10ebd31f583"
      },
      "execution_count": null,
      "outputs": [
        {
          "output_type": "execute_result",
          "data": {
            "text/plain": [
              "array([[[18,  1, 16, 10, 10],\n",
              "        [10,  8,  9,  2, 20],\n",
              "        [11, 18,  8, 17, 17]],\n",
              "\n",
              "       [[ 2,  9, 19,  1,  3],\n",
              "        [16,  8, 17, 13, 11],\n",
              "        [16, 13, 11, 17,  2]],\n",
              "\n",
              "       [[20,  6, 13, 18, 17],\n",
              "        [17,  4,  1,  8,  2],\n",
              "        [20,  8, 10,  5,  6]],\n",
              "\n",
              "       [[ 2, 20,  8,  8, 10],\n",
              "        [ 8,  9,  8,  1,  7],\n",
              "        [13,  5,  3, 20,  6]]])"
            ]
          },
          "metadata": {},
          "execution_count": 26
        }
      ]
    },
    {
      "cell_type": "code",
      "source": [
        "rdarr = random.choice([1,3,5,7,9], p = [0.1,0.3,0.2,0.4,0.0], size = (2,50))\n",
        "rdarr"
      ],
      "metadata": {
        "colab": {
          "base_uri": "https://localhost:8080/"
        },
        "id": "wtdy6rGk67wn",
        "outputId": "1e12167a-0878-45e0-9e96-982c5b21bcb9"
      },
      "execution_count": null,
      "outputs": [
        {
          "output_type": "execute_result",
          "data": {
            "text/plain": [
              "array([[7, 5, 3, 1, 3, 3, 5, 3, 3, 1, 7, 7, 3, 3, 3, 3, 3, 3, 7, 7, 3, 1,\n",
              "        7, 7, 3, 7, 5, 7, 5, 7, 5, 7, 7, 7, 1, 5, 3, 3, 1, 7, 3, 5, 3, 7,\n",
              "        3, 5, 7, 5, 3, 3],\n",
              "       [7, 5, 7, 3, 7, 7, 5, 5, 7, 3, 7, 3, 7, 7, 7, 3, 7, 3, 5, 1, 3, 3,\n",
              "        7, 7, 7, 5, 7, 7, 5, 3, 3, 1, 5, 7, 3, 1, 7, 5, 3, 5, 1, 3, 7, 3,\n",
              "        3, 3, 5, 7, 7, 7]])"
            ]
          },
          "metadata": {},
          "execution_count": 27
        }
      ]
    },
    {
      "cell_type": "code",
      "source": [
        "ar = np.array([1,2,3,4,5,6])\n",
        "random.shuffle(ar)\n",
        "print(ar)"
      ],
      "metadata": {
        "colab": {
          "base_uri": "https://localhost:8080/"
        },
        "id": "pjjdwVwA7TX-",
        "outputId": "278255a0-c773-4dcb-9abc-eec38f2a6379"
      },
      "execution_count": null,
      "outputs": [
        {
          "output_type": "stream",
          "name": "stdout",
          "text": [
            "[2 3 1 6 5 4]\n"
          ]
        }
      ]
    },
    {
      "cell_type": "code",
      "source": [
        "print(random.permutation(ar))"
      ],
      "metadata": {
        "colab": {
          "base_uri": "https://localhost:8080/"
        },
        "id": "p6zcrl92BfW2",
        "outputId": "1d8913e5-c5c9-4577-a514-608253314407"
      },
      "execution_count": null,
      "outputs": [
        {
          "output_type": "stream",
          "name": "stdout",
          "text": [
            "[2 6 1 4 3 5]\n"
          ]
        }
      ]
    },
    {
      "cell_type": "code",
      "source": [
        "[:\n",
        " tempansx:  == stringname]"
      ],
      "metadata": {
        "id": "yUeA7oW6B2bk"
      },
      "execution_count": null,
      "outputs": []
    }
  ]
}