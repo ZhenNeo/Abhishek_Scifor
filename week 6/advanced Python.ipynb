{
  "nbformat": 4,
  "nbformat_minor": 0,
  "metadata": {
    "colab": {
      "provenance": []
    },
    "kernelspec": {
      "name": "python3",
      "display_name": "Python 3"
    },
    "language_info": {
      "name": "python"
    }
  },
  "cells": [
    {
      "cell_type": "code",
      "execution_count": null,
      "metadata": {
        "colab": {
          "base_uri": "https://localhost:8080/"
        },
        "id": "QSOrK_JPgGgK",
        "outputId": "20202f6f-da38-4f15-d398-bb73d14ba829"
      },
      "outputs": [
        {
          "output_type": "stream",
          "name": "stdout",
          "text": [
            "10009\n"
          ]
        }
      ],
      "source": [
        "#lambda\n",
        "var = lambda a : a + 9999\n",
        "print(var(10))\n"
      ]
    },
    {
      "cell_type": "code",
      "source": [
        "#lambda\n",
        "var = lambda a,u,m : a * u * m\n",
        "print(var(10,100,80))\n"
      ],
      "metadata": {
        "colab": {
          "base_uri": "https://localhost:8080/"
        },
        "id": "t_Oe3E0sh5GH",
        "outputId": "df0a59e2-a9b5-40fb-9381-91adf27ba339"
      },
      "execution_count": null,
      "outputs": [
        {
          "output_type": "stream",
          "name": "stdout",
          "text": [
            "80000\n"
          ]
        }
      ]
    },
    {
      "cell_type": "code",
      "source": [
        "def task(n):\n",
        "  return lambda r : r*n\n",
        "\n",
        "result1 = task(8)\n",
        "\n",
        "print(result1(38))\n"
      ],
      "metadata": {
        "colab": {
          "base_uri": "https://localhost:8080/"
        },
        "id": "ea_b1zz6iPTJ",
        "outputId": "89669378-31f5-4681-dffc-823980ad5c44"
      },
      "execution_count": null,
      "outputs": [
        {
          "output_type": "stream",
          "name": "stdout",
          "text": [
            "304\n",
            "<function task.<locals>.<lambda> at 0x7b9a4eb29e10>\n"
          ]
        }
      ]
    },
    {
      "cell_type": "code",
      "source": [
        "mydata = (\"sha\",\"hhah\",\"hhha11\")\n",
        "newdata = iter(mydata)\n",
        "print(next(newdata))\n",
        "print(next(newdata))\n",
        "print(next(newdata))"
      ],
      "metadata": {
        "colab": {
          "base_uri": "https://localhost:8080/"
        },
        "id": "Pd-40A3Eg082",
        "outputId": "27b5e2b9-6b1d-4a74-b60d-6fe0d76995a9"
      },
      "execution_count": null,
      "outputs": [
        {
          "output_type": "stream",
          "name": "stdout",
          "text": [
            "sha\n",
            "hhah\n",
            "hhha11\n"
          ]
        }
      ]
    },
    {
      "cell_type": "code",
      "source": [
        "mydata = (\"sha\",\"hhah\",\"hhha11\")\n",
        "for i in mydata:\n",
        "  print(i)"
      ],
      "metadata": {
        "colab": {
          "base_uri": "https://localhost:8080/"
        },
        "id": "cKu1_s3elF-i",
        "outputId": "65aec6ba-9537-4540-ebcf-e245d8a17dda"
      },
      "execution_count": null,
      "outputs": [
        {
          "output_type": "stream",
          "name": "stdout",
          "text": [
            "sha\n",
            "hhah\n",
            "hhha11\n"
          ]
        }
      ]
    },
    {
      "cell_type": "code",
      "source": [
        "# __iter__ , __next__"
      ],
      "metadata": {
        "id": "0WbTuSmNlVwd"
      },
      "execution_count": null,
      "outputs": []
    },
    {
      "cell_type": "code",
      "source": [
        "def TaskMap(num):\n",
        "  return num/2\n",
        "\n",
        "\n",
        "\n",
        "x = [9,3,7,8,10,112,77,80,65]\n",
        "\n",
        "map1 = map(TaskMap,x)\n",
        "print(list(map1))"
      ],
      "metadata": {
        "colab": {
          "base_uri": "https://localhost:8080/"
        },
        "id": "HbzwCymZleJ9",
        "outputId": "cc370287-122a-476d-a6c3-2db3b55006b3"
      },
      "execution_count": null,
      "outputs": [
        {
          "output_type": "stream",
          "name": "stdout",
          "text": [
            "[4.5, 1.5, 3.5, 4.0, 5.0, 56.0, 38.5, 40.0, 32.5]\n"
          ]
        }
      ]
    },
    {
      "cell_type": "code",
      "source": [
        "x = [9,3,7,8,10,112,77,80,65]\n",
        "x4 = [9,3,7,8,10,112,77,80,65]\n",
        "map1 = map (lambda x1,y1: x1/2+y1/2 ,x,x4)\n",
        "print(list(map1))"
      ],
      "metadata": {
        "colab": {
          "base_uri": "https://localhost:8080/"
        },
        "id": "0CLdl5KZnSpP",
        "outputId": "cd704cb8-a9fa-4290-e7ad-2e68bcab1e37"
      },
      "execution_count": null,
      "outputs": [
        {
          "output_type": "stream",
          "name": "stdout",
          "text": [
            "[9.0, 3.0, 7.0, 8.0, 10.0, 112.0, 77.0, 80.0, 65.0]\n"
          ]
        }
      ]
    },
    {
      "cell_type": "code",
      "source": [
        "x = [9,3,7,8,10,112,77,80,65]\n",
        "\n",
        "map1 = filter(lambda x1 : x1%2==0 ,x)\n",
        "print(list(map1))"
      ],
      "metadata": {
        "colab": {
          "base_uri": "https://localhost:8080/"
        },
        "id": "bQtZpXZhoHZg",
        "outputId": "6afd91b4-748d-41fe-94b4-4bf090c0f372"
      },
      "execution_count": null,
      "outputs": [
        {
          "output_type": "stream",
          "name": "stdout",
          "text": [
            "[8, 10, 112, 80]\n"
          ]
        }
      ]
    },
    {
      "cell_type": "code",
      "source": [
        "x = \"ggg bbbb kkk bb\"\n",
        "print(len(x))\n",
        "split = x.split(\" \")\n",
        "print(len(split))"
      ],
      "metadata": {
        "colab": {
          "base_uri": "https://localhost:8080/"
        },
        "id": "205KXX0QpMNZ",
        "outputId": "b25eca37-01aa-4e6f-b262-cd4a482406ce"
      },
      "execution_count": null,
      "outputs": [
        {
          "output_type": "stream",
          "name": "stdout",
          "text": [
            "15\n",
            "4\n"
          ]
        }
      ]
    },
    {
      "cell_type": "code",
      "source": [],
      "metadata": {
        "id": "yV8SKfI4JMzg"
      },
      "execution_count": null,
      "outputs": []
    },
    {
      "cell_type": "code",
      "source": [
        "#decorators and generators\n",
        "\n",
        "def task2(n):\n",
        "  return n.upper()\n",
        "\n",
        "print(task2(\"hello\"))\n"
      ],
      "metadata": {
        "colab": {
          "base_uri": "https://localhost:8080/"
        },
        "id": "fvJpZbiclrV_",
        "outputId": "35537612-ed73-4fd7-f089-c5658e0ea14c"
      },
      "execution_count": null,
      "outputs": [
        {
          "output_type": "stream",
          "name": "stdout",
          "text": [
            "HELLO\n"
          ]
        }
      ]
    },
    {
      "cell_type": "code",
      "source": [
        "def add(x,y): #how to pass function as argument\n",
        "  return x+y\n",
        "def change(func,x,y):\n",
        "  return func(x,y) #add(4,8) func = add\n",
        "result = change(add,4,8)\n",
        "print(result)\n"
      ],
      "metadata": {
        "colab": {
          "base_uri": "https://localhost:8080/"
        },
        "id": "qRqadTA6tX-j",
        "outputId": "b78dd719-114d-45d6-a35d-ff09815ac9ee"
      },
      "execution_count": null,
      "outputs": [
        {
          "output_type": "stream",
          "name": "stdout",
          "text": [
            "12\n"
          ]
        }
      ]
    },
    {
      "cell_type": "code",
      "source": [
        "#decorators\n",
        "def task1(func):\n",
        "  #creating a inner function\n",
        "  def inside():\n",
        "      #additional behaviour\n",
        "      print(\"hi\")\n",
        "      #call the original function\n",
        "      func()\n",
        "   #returning inner function namely inside\n",
        "  return inside\n",
        "#new function defined\n",
        "def new():\n",
        "  print(\"bye\")\n",
        "#decorate the new() function\n",
        "decorator_function = task1(new)\n",
        "#call the decorated function\n",
        "decorator_function()"
      ],
      "metadata": {
        "colab": {
          "base_uri": "https://localhost:8080/"
        },
        "id": "k7m2NHl0JO6c",
        "outputId": "938b9786-8b6e-4da4-8b45-97bc9513d2e2"
      },
      "execution_count": null,
      "outputs": [
        {
          "output_type": "stream",
          "name": "stdout",
          "text": [
            "hi\n",
            "bye\n"
          ]
        }
      ]
    },
    {
      "cell_type": "code",
      "source": [
        "#chaining decorators and go through advance and do hacker rank questions."
      ],
      "metadata": {
        "id": "tWXlCSUlRiwL"
      },
      "execution_count": null,
      "outputs": []
    },
    {
      "cell_type": "code",
      "source": [
        "#generator\n",
        "def generator_function():\n",
        "  yield 1\n",
        "  yield 2\n",
        "for i in generator_function():\n",
        "  print(i)\n",
        "\n"
      ],
      "metadata": {
        "colab": {
          "base_uri": "https://localhost:8080/"
        },
        "id": "wX6Rn47VRphx",
        "outputId": "b8282185-4977-49ee-df04-d534f28c9d29"
      },
      "execution_count": null,
      "outputs": [
        {
          "output_type": "stream",
          "name": "stdout",
          "text": [
            "1\n",
            "2\n"
          ]
        }
      ]
    },
    {
      "cell_type": "code",
      "source": [
        "#generator object\n",
        "def generator_function():\n",
        "  yield 1\n",
        "  yield 2\n",
        "result = generator_function()\n",
        "#next()\n",
        "print(next(result))\n",
        "print(next(result))\n",
        "print(next(result))"
      ],
      "metadata": {
        "colab": {
          "base_uri": "https://localhost:8080/",
          "height": 245
        },
        "id": "V70bTeifSotb",
        "outputId": "e544529c-62d5-410f-891f-0cff6a98cd61"
      },
      "execution_count": null,
      "outputs": [
        {
          "output_type": "stream",
          "name": "stdout",
          "text": [
            "1\n",
            "2\n"
          ]
        },
        {
          "output_type": "error",
          "ename": "StopIteration",
          "evalue": "",
          "traceback": [
            "\u001b[0;31m---------------------------------------------------------------------------\u001b[0m",
            "\u001b[0;31mStopIteration\u001b[0m                             Traceback (most recent call last)",
            "\u001b[0;32m<ipython-input-9-2495014ab285>\u001b[0m in \u001b[0;36m<cell line: 9>\u001b[0;34m()\u001b[0m\n\u001b[1;32m      7\u001b[0m \u001b[0mprint\u001b[0m\u001b[0;34m(\u001b[0m\u001b[0mnext\u001b[0m\u001b[0;34m(\u001b[0m\u001b[0mresult\u001b[0m\u001b[0;34m)\u001b[0m\u001b[0;34m)\u001b[0m\u001b[0;34m\u001b[0m\u001b[0;34m\u001b[0m\u001b[0m\n\u001b[1;32m      8\u001b[0m \u001b[0mprint\u001b[0m\u001b[0;34m(\u001b[0m\u001b[0mnext\u001b[0m\u001b[0;34m(\u001b[0m\u001b[0mresult\u001b[0m\u001b[0;34m)\u001b[0m\u001b[0;34m)\u001b[0m\u001b[0;34m\u001b[0m\u001b[0;34m\u001b[0m\u001b[0m\n\u001b[0;32m----> 9\u001b[0;31m \u001b[0mprint\u001b[0m\u001b[0;34m(\u001b[0m\u001b[0mnext\u001b[0m\u001b[0;34m(\u001b[0m\u001b[0mresult\u001b[0m\u001b[0;34m)\u001b[0m\u001b[0;34m)\u001b[0m\u001b[0;34m\u001b[0m\u001b[0;34m\u001b[0m\u001b[0m\n\u001b[0m",
            "\u001b[0;31mStopIteration\u001b[0m: "
          ]
        }
      ]
    }
  ]
}