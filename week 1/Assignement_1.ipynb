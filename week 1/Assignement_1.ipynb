{
  "nbformat": 4,
  "nbformat_minor": 0,
  "metadata": {
    "colab": {
      "provenance": []
    },
    "kernelspec": {
      "name": "python3",
      "display_name": "Python 3"
    },
    "language_info": {
      "name": "python"
    }
  },
  "cells": [
    {
      "cell_type": "code",
      "execution_count": null,
      "metadata": {
        "colab": {
          "base_uri": "https://localhost:8080/"
        },
        "id": "n1oz4lDoY0bB",
        "outputId": "a252d189-6274-4efd-dbe7-f7c74610fed0"
      },
      "outputs": [
        {
          "output_type": "stream",
          "name": "stdout",
          "text": [
            "Arvind\n"
          ]
        }
      ],
      "source": [
        "#print name\n",
        "print(\"Arvind\")"
      ]
    },
    {
      "cell_type": "code",
      "source": [
        "#print shapes using \"\\\"\"-\"\"|\"\"/\"\n",
        "print(\"   /|  |\\ \")\n",
        "print(\"  / |  | \\ \")\n",
        "print(\" /  |  |  \\ \")\n",
        "print(\" ---   ---- \")"
      ],
      "metadata": {
        "colab": {
          "base_uri": "https://localhost:8080/"
        },
        "id": "qb4HulwvhBsb",
        "outputId": "c9f2129e-882b-4220-cca3-46d1c1be1069"
      },
      "execution_count": null,
      "outputs": [
        {
          "output_type": "stream",
          "name": "stdout",
          "text": [
            "   /|  |\\ \n",
            "  / |  | \\ \n",
            " /  |  |  \\ \n",
            " ---   ---- \n"
          ]
        }
      ]
    },
    {
      "cell_type": "code",
      "source": [
        "print(\"Ashwin\\nAjay\\nAshish\\nArjun\\nAkhil\")"
      ],
      "metadata": {
        "colab": {
          "base_uri": "https://localhost:8080/"
        },
        "id": "efXy6itRidvI",
        "outputId": "7b9d80ec-4d25-4937-8455-4d7cbf6502af"
      },
      "execution_count": null,
      "outputs": [
        {
          "output_type": "stream",
          "name": "stdout",
          "text": [
            "Ashwin\n",
            "Ajay\n",
            "Ashish\n",
            "Arjun\n",
            "Akhil\n"
          ]
        }
      ]
    },
    {
      "cell_type": "code",
      "source": [
        "#writing an essay\n",
        "name = input(\"What is your name: \")\n",
        "age = input(\"What is your age: \")\n",
        "address = input(\"Please enter your address: \")\n",
        "dream = input(\"Enter yourr dream job : \")\n",
        "print(f\"Hi, my name is {name}, I am {age} years old. I live in {address} and I absolutely love it. \\nMy goal in life is to become a {dream} and I will work hard to achieve it.\")"
      ],
      "metadata": {
        "colab": {
          "base_uri": "https://localhost:8080/"
        },
        "id": "jWZuobwaiqC5",
        "outputId": "81adbe5f-9e5a-4faf-a552-6f011918469c"
      },
      "execution_count": null,
      "outputs": [
        {
          "output_type": "stream",
          "name": "stdout",
          "text": [
            "What is your name: Nidhi\n",
            "What is your age: 21\n",
            "Please enter your address: pune\n",
            "Enter yourr dream job : doctor\n",
            "Hi, my name is Nidhi, I am 21 years old. I live in pune and I absolutely love it. \n",
            "My goal in life is to become a doctor and I will work hard to achieve it.\n"
          ]
        }
      ]
    },
    {
      "cell_type": "code",
      "source": [
        "#calculate the total amount to be paid for books\n",
        "booksSold = int(input(\"Enter the number of books sold: \"))\n",
        "bill = booksSold * 2\n",
        "print(f\"the total bill: {bill}$\")"
      ],
      "metadata": {
        "colab": {
          "base_uri": "https://localhost:8080/"
        },
        "id": "4-vcaVP0mCIX",
        "outputId": "b426b410-7602-415a-9075-a2d01fba9def"
      },
      "execution_count": null,
      "outputs": [
        {
          "output_type": "stream",
          "name": "stdout",
          "text": [
            "Enter the number of books sold: 4\n",
            "the total bill: 8$\n"
          ]
        }
      ]
    },
    {
      "cell_type": "code",
      "source": [
        "#add, substract, multiply, divide\n",
        "a = 5\n",
        "b = 10\n",
        "print(\"Addition is \" + str(a + b))\n",
        "print(\"Substraction is \" + str(a - b))\n",
        "print(\"Multiplication is \" + str(a * b))\n",
        "print(\"Division is \" + str(a / b))"
      ],
      "metadata": {
        "colab": {
          "base_uri": "https://localhost:8080/"
        },
        "id": "ecJasMDBm2aL",
        "outputId": "fb44cc43-166f-41cd-eaa9-b2ec76aec00a"
      },
      "execution_count": null,
      "outputs": [
        {
          "output_type": "stream",
          "name": "stdout",
          "text": [
            "Addition is 15\n",
            "Substraction is -5\n",
            "Multiplication is 50\n",
            "Division is 0.5\n"
          ]
        }
      ]
    },
    {
      "cell_type": "code",
      "source": [
        "#calculate age\n",
        "year = int(input(\"Enter the current year: \"))\n",
        "DoB = int(input(\"Enter your year of birth: \"))\n",
        "print(\"Your age is: \" + str(year - DoB))"
      ],
      "metadata": {
        "colab": {
          "base_uri": "https://localhost:8080/"
        },
        "id": "7xSFrQkynvUE",
        "outputId": "7bce3eed-5723-404c-ff20-bd4dc68efaaf"
      },
      "execution_count": null,
      "outputs": [
        {
          "output_type": "stream",
          "name": "stdout",
          "text": [
            "Enter the current year: 2024\n",
            "Enter your year of birth: 2002\n",
            "Your age is: 22\n"
          ]
        }
      ]
    },
    {
      "cell_type": "code",
      "source": [
        "#chatbot\n",
        "print(\"Hi, I am a chatbot. \")\n",
        "name = input(\"what is your name? \")\n",
        "grade = input(f\"Oh, {name} in which grade you are right now? \")\n",
        "question = input(f\"{name} you are in {grade}th grade. Can I ask you one question? yes or no? \")\n",
        "if question == \"yes\":\n",
        "  add = int(input(\"Tell me 1024+98=? \"))\n",
        "  if add == 1122:\n",
        "    input(\"Good! Your answer is correct. Bye \")\n",
        "  else :\n",
        "    print(\"No, it's 1122, better luck next time\")\n",
        "else :\n",
        "  print(\"Okay, until we meet again. Bye\")\n"
      ],
      "metadata": {
        "colab": {
          "base_uri": "https://localhost:8080/"
        },
        "id": "JpNN1_uSoXrT",
        "outputId": "494e2c42-f1cc-4da5-8325-90044981a5f5"
      },
      "execution_count": null,
      "outputs": [
        {
          "name": "stdout",
          "output_type": "stream",
          "text": [
            "Hi, I am a chatbot. \n",
            "what is your name? Nidhi\n",
            "Oh, Nidhi in which grade you are right now? 8\n",
            "Nidhi you are in 8th grade. Can I ask you one question? yes or no? yes\n",
            "Tell me 1024+98=? 1122\n",
            "Good! Your answer is correct. Bye bye\n"
          ]
        }
      ]
    },
    {
      "cell_type": "code",
      "source": [],
      "metadata": {
        "id": "B1WDo3KJLvUc"
      },
      "execution_count": null,
      "outputs": []
    }
  ]
}