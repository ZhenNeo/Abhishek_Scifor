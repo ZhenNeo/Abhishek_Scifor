{
  "nbformat": 4,
  "nbformat_minor": 0,
  "metadata": {
    "colab": {
      "provenance": []
    },
    "kernelspec": {
      "name": "python3",
      "display_name": "Python 3"
    },
    "language_info": {
      "name": "python"
    }
  },
  "cells": [
    {
      "cell_type": "code",
      "execution_count": null,
      "metadata": {
        "colab": {
          "base_uri": "https://localhost:8080/"
        },
        "id": "vVyP5uzZQxYm",
        "outputId": "9fb41f3b-8d21-459b-e7f7-c190b2739634"
      },
      "outputs": [
        {
          "output_type": "stream",
          "name": "stdout",
          "text": [
            "Enter the number of favorable outcomes: 5\n",
            "Enter the total number of possible outcomes: 15\n",
            "Probability: 0.33\n"
          ]
        }
      ],
      "source": [
        "#probability\n",
        "fav_outcomes = int(input(\"Enter the number of favorable outcomes: \"))\n",
        "total_outcomes = int(input(\"Enter the total number of possible outcomes: \"))\n",
        "\n",
        "probability = fav_outcomes / total_outcomes #calculating probability\n",
        "\n",
        "rounded_probability = round(probability, 2)\n",
        "\n",
        "print(\"Probability:\", rounded_probability)"
      ]
    },
    {
      "cell_type": "code",
      "source": [
        "#RTO\n",
        "age = int(input(\"Enter your age: \"))\n",
        "if age >= 18:\n",
        "  print(\"Eligible for lisence\")\n",
        "else:\n",
        "  print(\"Not eligible\")"
      ],
      "metadata": {
        "colab": {
          "base_uri": "https://localhost:8080/"
        },
        "id": "_okuDu09SZ3l",
        "outputId": "22282560-aa2e-41a3-c1fa-fc3fc80c1f22"
      },
      "execution_count": null,
      "outputs": [
        {
          "output_type": "stream",
          "name": "stdout",
          "text": [
            "Enter your age: 20\n",
            "Eligible for lisence\n"
          ]
        }
      ]
    },
    {
      "cell_type": "code",
      "source": [
        "#chatbot\n",
        "name = input(\"Hello, may I know your name: \")\n",
        "print(f\"Hi, my name is Jenni, chatbot. A Very Good Day To You {name}!!.\")\n",
        "feel = input(\"How are you feeling today? \")\n",
        "if feel in ['good', 'nice', 'pleasant', 'fine']:\n",
        "  print(\"It's really a productive day to do something innovative and you are close to it. \")\n",
        "else:\n",
        "  print(f\"Don't worry!! you got this {name}!!. buckle up and cheer yourself up. Good days are on their way. There is no beautiful rainbow without a heavy rain\")"
      ],
      "metadata": {
        "colab": {
          "base_uri": "https://localhost:8080/"
        },
        "id": "cjc0UTPoSubM",
        "outputId": "1783341e-eed5-41e8-e515-5b7a469db0c1"
      },
      "execution_count": null,
      "outputs": [
        {
          "output_type": "stream",
          "name": "stdout",
          "text": [
            "Hello, may I know your name: Abhishek\n",
            "Hi, my name is Jenni, chatbot. A Very Good Day To You Abhishek!!.\n",
            "How are you feeling today? not good\n",
            "Don't worry!! you got this Abhishek!!. buckle up and cheer yourself up. Good days are on their way. There is no beautiful rainbow without a heavy rain\n"
          ]
        }
      ]
    },
    {
      "cell_type": "code",
      "source": [
        "#ATM\n",
        "balance = 50000\n",
        "option = input(\"Enter 1 for Withdraw in multiples of 100, 200, 1000, 2000\\n2 for Fastcash\\n3 for cash deposit\\n4 for balance enquiry\\n\")\n",
        "\n",
        "if option ==  '1': #for withdrawal\n",
        "  amount = int(input(\"Enter the amount for withdrawal: \"))\n",
        "  if amount % 100 == 0:\n",
        "    print(\"Acount balance = \", balance - amount)\n",
        "  else:\n",
        "    print(\"Error. enter the amount in multiples of 100, 200, 1000, 2000 and so on\")\n",
        "elif option == '2': # for fastcash\n",
        "  print(\"5000\\n10000\\n15000\\n20000\\n25000\\n30000\\n40000\\n45000\\n50000 \")\n",
        "elif option == '3': # for cash deposit\n",
        "  deposit = int(input(\"Enter the amount you want to deposit\"))\n",
        "  print(\"Balance : \", balance + deposit)\n",
        "elif option == '4': # for balance enquiry\n",
        "  print(\"Current balance:\", balance )"
      ],
      "metadata": {
        "colab": {
          "base_uri": "https://localhost:8080/"
        },
        "id": "6FYgFfn_U6RQ",
        "outputId": "412065c7-2efc-4d04-c6df-76302352cddc"
      },
      "execution_count": null,
      "outputs": [
        {
          "output_type": "stream",
          "name": "stdout",
          "text": [
            "Enter 1 for Withdraw in multiples of 100, 200, 1000, 2000\n",
            "2 for Fastcash\n",
            "3 for cash deposit\n",
            "4 for balance enquiry\n",
            "4\n",
            "Current balance:  50000\n"
          ]
        }
      ]
    },
    {
      "cell_type": "code",
      "source": [
        "#color\n",
        "colornames = input(\"Enter names of colors seperated by spaces: \")\n",
        "colors = colornames.split(' ')\n",
        "\n",
        "for color in colors:\n",
        "  if color == 'red':\n",
        "    pass #empty if condition\n",
        "  print(color)\n"
      ],
      "metadata": {
        "colab": {
          "base_uri": "https://localhost:8080/"
        },
        "id": "Lwe8npKkaVU_",
        "outputId": "c421bcb3-3936-4193-8e1e-c9316d424f38"
      },
      "execution_count": null,
      "outputs": [
        {
          "output_type": "stream",
          "name": "stdout",
          "text": [
            "Enter names of colors seperated by spaces: blue green yellow white pink red indigo black\n",
            "blue\n",
            "green\n",
            "yellow\n",
            "white\n",
            "pink\n",
            "red\n",
            "indigo\n",
            "black\n"
          ]
        }
      ]
    },
    {
      "cell_type": "code",
      "source": [
        "#interest from bank\n",
        "P = 10000\n",
        "r = 6/100\n",
        "t = 1\n",
        "n = 2\n",
        "A_yash = P*(1+r*t) #calculate yash's simple interest for a year\n",
        "\n",
        "A_vishal = P*(1 + r)**(n*t) # calculate vishal's compound interest for a year\n",
        "\n",
        "print(\"Difference in their balance after a year: \",A_vishal - A_yash, \"$\")\n",
        "y = 30\n",
        "A_yash = P*(1+r*y) #calculate yash's simple interest for 30 years\n",
        "\n",
        "A_vishal = P*(1 + r)**(n*y) #calculate vishal's compound interest for 30 years\n",
        "\n",
        "print(\"Difference in their balance after 30 years: \",A_vishal - A_yash, \"$\")\n"
      ],
      "metadata": {
        "colab": {
          "base_uri": "https://localhost:8080/"
        },
        "id": "EYWmGnODcN1m",
        "outputId": "00f38f66-9ceb-4da0-a967-9af2c0b51854"
      },
      "execution_count": null,
      "outputs": [
        {
          "output_type": "stream",
          "name": "stdout",
          "text": [
            "Difference in their balance after a year:  636.0000000000018 $\n",
            "Difference in their balance after 30 years:  301876.90853332524 $\n"
          ]
        }
      ]
    },
    {
      "cell_type": "code",
      "source": [
        "#TAX\n",
        "income = int(input(\"Enter annual income: \"))\n",
        "if 300000 <= income < 500000:\n",
        "  tax = income * (5/100)\n",
        "elif 500000 <= income < 750000:\n",
        "  tax = income * (10/100)\n",
        "elif 750000 <= income < 900000:\n",
        "  tax = income * (15/100)\n",
        "elif income >= 900000:\n",
        "  tax = income * (20/100)\n",
        "print(tax)"
      ],
      "metadata": {
        "colab": {
          "base_uri": "https://localhost:8080/"
        },
        "id": "bavbnQnohUeU",
        "outputId": "e7a5a987-fa6f-4a0a-edea-db74f5d15f72"
      },
      "execution_count": null,
      "outputs": [
        {
          "output_type": "stream",
          "name": "stdout",
          "text": [
            "Enter annual income: 900000\n",
            "180000.0\n"
          ]
        }
      ]
    },
    {
      "cell_type": "code",
      "source": [
        "#BMI\n",
        "age = int(input(\"ENter your age: \"))\n",
        "#checking age\n",
        "if 18 <= age <= 65:\n",
        "  weight = int(input(\"Enter your weight in kg: \"))\n",
        "  height = float(input(\"Enter your height in meters: \"))\n",
        "  #calculating BMI\n",
        "  bmi = weight/(height*height)\n",
        "  if bmi >= 25:\n",
        "    print(f\"Your bmi is {bmi}, which indicates you are overweight.\")\n",
        "  elif 18.5 < bmi <= 24.9:\n",
        "    print(f\"your bmi is {bmi}, which indicates you are healthy\")\n",
        "  elif bmi < 18.5:\n",
        "    print(f\"your bmi is {bmi}, which indicates you are underweight\")\n",
        "else:\n",
        "  print(\"BMI does not apply to your age\")"
      ],
      "metadata": {
        "colab": {
          "base_uri": "https://localhost:8080/"
        },
        "id": "8dGxh5koj0TD",
        "outputId": "f6a217c1-a206-44c8-e8f1-9ecda38241a3"
      },
      "execution_count": null,
      "outputs": [
        {
          "output_type": "stream",
          "name": "stdout",
          "text": [
            "ENter your age: 20\n",
            "Enter your weight in kg: 60\n",
            "Enter your height in meters: 1.7\n",
            "your bmi is 20.761245674740486, which indicates you are healthy\n"
          ]
        }
      ]
    },
    {
      "cell_type": "code",
      "source": [
        "#leap year\n",
        "year = int(input(\"Enter the year: \"))\n",
        "leap = False\n",
        "if year % 4 == 0: #checming if divisble by 4\n",
        "  leap = True\n",
        "elif year % 100 == 0: #checking if divisible by 100\n",
        "  leap = False\n",
        "elif year % 400 == 0: #checking if divisble by 400\n",
        "  leap = True\n",
        "\n",
        "print(f\"It is {leap} that {year} is leap year\")"
      ],
      "metadata": {
        "colab": {
          "base_uri": "https://localhost:8080/"
        },
        "id": "TvZBY-hml6wS",
        "outputId": "150d5459-09f0-473e-e2e7-e0c198c104c8"
      },
      "execution_count": null,
      "outputs": [
        {
          "output_type": "stream",
          "name": "stdout",
          "text": [
            "Enter the year: 2400\n",
            "It is True that 2400 is leap year\n"
          ]
        }
      ]
    }
  ]
}