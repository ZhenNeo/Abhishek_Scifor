{
  "nbformat": 4,
  "nbformat_minor": 0,
  "metadata": {
    "colab": {
      "provenance": []
    },
    "kernelspec": {
      "name": "python3",
      "display_name": "Python 3"
    },
    "language_info": {
      "name": "python"
    }
  },
  "cells": [
    {
      "cell_type": "code",
      "execution_count": null,
      "metadata": {
        "colab": {
          "base_uri": "https://localhost:8080/"
        },
        "id": "Qk-rPKryotmz",
        "outputId": "88eb529e-69fd-41e0-82ca-1d7303dd05b6"
      },
      "outputs": [
        {
          "output_type": "stream",
          "name": "stdout",
          "text": [
            "Chocolates remaining after equally distributed are : 15\n"
          ]
        }
      ],
      "source": [
        "#remaining chocolates\n",
        "chocolates = 327\n",
        "students = 78\n",
        "print(\"Chocolates remaining after equally distributed are : \" +str(chocolates % students))"
      ]
    },
    {
      "cell_type": "code",
      "source": [
        "#Domino\n",
        "name = input(\"Enter your name: \")\n",
        "number = input(\"Enter your mobile number: \")\n",
        "age = input(\"Enter your age: \")\n",
        "email = input(\"Enter your email Id: \")\n",
        "\n",
        "print(f\"Hi, {name}!! Thanks for visiting our restaurant and registering for our lucky draw competition on our 25th Anniversary.\\nOnce the lucky draw results are announced you will receive a message on your mobile number :{number}\\nAn detailed description of your gift on your email Id : {email}\\nThank you for being a valued customer, {name}!! \\nDominos\")"
      ],
      "metadata": {
        "colab": {
          "base_uri": "https://localhost:8080/"
        },
        "id": "_3aBu9lhpnPq",
        "outputId": "e515530b-e723-459f-c0de-2778edd020e2"
      },
      "execution_count": null,
      "outputs": [
        {
          "output_type": "stream",
          "name": "stdout",
          "text": [
            "Enter your name: Customer\n",
            "Enter your mobile number: 9876543210\n",
            "Enter your age: 22\n",
            "Enter your email Id: abcd@gmail.com\n",
            "Hi, Customer!! Thanks for visiting our restaurant and registering for our lucky draw competition on our 25th Anniversary.\n",
            "Once the lucky draw results are announced you will receive a message on your mobile number :9876543210\n",
            "An detailed description of your gift on your email Id : abcd@gmail.com\n",
            "Thank you for being a valued customer, Customer!! \n",
            "Dominos\n"
          ]
        }
      ]
    },
    {
      "cell_type": "code",
      "source": [
        "#number of teams\n",
        "total = 60\n",
        "groupNo = 4\n",
        "print(\"The total number of groups that can be created with 4 members per group are: \" + str(total // groupNo))"
      ],
      "metadata": {
        "colab": {
          "base_uri": "https://localhost:8080/"
        },
        "id": "mTm2xv32rHfc",
        "outputId": "e3840afe-882c-4550-f33a-4394bb23802f"
      },
      "execution_count": null,
      "outputs": [
        {
          "output_type": "stream",
          "name": "stdout",
          "text": [
            "the total number of groups that can be created with 4 members per group are: 15\n"
          ]
        }
      ]
    },
    {
      "cell_type": "code",
      "source": [
        "#temperature\n",
        "F = int(input(\"Enter the temperature in Fahrenheit: \"))\n",
        "C = (F - 32) * 5/9\n",
        "print(f\"The temperature in celsius is °{C}\")"
      ],
      "metadata": {
        "colab": {
          "base_uri": "https://localhost:8080/"
        },
        "id": "ZQb98hdyrZhP",
        "outputId": "aaacbe29-abd7-4790-ffc7-7cc77d4703ca"
      },
      "execution_count": null,
      "outputs": [
        {
          "output_type": "stream",
          "name": "stdout",
          "text": [
            "Enter the temperature in Fahrenheit: 104\n",
            "The temperature in celsius is °40.0\n"
          ]
        }
      ]
    }
  ]
}